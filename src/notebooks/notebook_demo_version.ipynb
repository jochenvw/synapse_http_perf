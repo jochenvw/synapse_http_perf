{
  "cells": [
    {
      "cell_type": "markdown",
      "source": [
        "# Parallelizing HTTP calls using Spark\r\n",
        "\r\n",
        "We're looking for fastest way to make HTTP calls - while being the cheapest (i.e. using least amount of compute or nodes)"
      ],
      "metadata": {
        "nteract": {
          "transient": {
            "deleting": false
          }
        }
      }
    },
    {
      "cell_type": "code",
      "source": [
        "number_of_http_calls = 100\r\n",
        "test_endpoint = \"https://nl-stu-jvw-func.azurewebsites.net/api/echo\"\r\n",
        "#test_endpoint = \"https://httpbin.org/ip\"\r\n",
        "\r\n",
        "cores_per_executor = 4\r\n",
        "num_executors = 1\r\n",
        "dj_margin = 4 # According to Dirk-Jan we need 2 - 4 times nr of cores x executors\r\n",
        "partition_count = cores_per_executor * num_executors * dj_margin\r\n"
      ],
      "outputs": [
        {
          "output_type": "display_data",
          "data": {
            "application/vnd.livy.statement-meta+json": {
              "spark_pool": "jvwpool",
              "statement_id": 13,
              "statement_ids": [
                13
              ],
              "state": "finished",
              "livy_statement_state": "available",
              "spark_jobs": null,
              "session_id": "6",
              "normalized_state": "finished",
              "queued_time": "2025-04-17T08:20:52.4015133Z",
              "session_start_time": null,
              "execution_start_time": "2025-04-17T08:20:52.403229Z",
              "execution_finish_time": "2025-04-17T08:20:52.6603944Z",
              "parent_msg_id": "3da78854-0030-4aec-a801-5dc00af028b4"
            },
            "text/plain": "StatementMeta(jvwpool, 6, 13, Finished, Available, Finished)"
          },
          "metadata": {}
        }
      ],
      "execution_count": 12,
      "metadata": {
        "jupyter": {
          "source_hidden": false,
          "outputs_hidden": false
        },
        "nteract": {
          "transient": {
            "deleting": false
          }
        }
      }
    },
    {
      "cell_type": "markdown",
      "source": [
        "## 1. On the driver - synchronous\r\n",
        "\r\n",
        "- Runs on driver (I think - check with B)\r\n",
        "- Runs sequentially: `for .. etc` and blocking call to request.get\r\n",
        "\r\n",
        "**Observations**\r\n",
        "\r\n",
        "- Worst performance - approx 100 x 1sec execution\r\n",
        "- Azure function shows 1 req/sec\r\n",
        "\r\n",
        "\r\n",
        "**Results**\r\n",
        "```\r\n",
        "Average Response Time: 1.0735 seconds\r\n",
        "Overall Response Time for 10 calls: 10.7349 seconds\r\n",
        "```\r\n",
        "\r\n",
        "```\r\n",
        "Average Response Time: 1.0663 seconds\r\n",
        "Overall Response Time for 100 calls: 106.6314 seconds\r\n",
        "```"
      ],
      "metadata": {
        "nteract": {
          "transient": {
            "deleting": false
          }
        }
      }
    },
    {
      "cell_type": "code",
      "source": [
        "import requests\r\n",
        "import time\r\n",
        "from pyspark.sql import SparkSession\r\n",
        "\r\n",
        "spark = SparkSession.builder.getOrCreate()\r\n",
        "spark.sparkContext.setJobGroup(\"Experiment#1\", \"Sync on driver\")\r\n",
        "\r\n",
        "def call_endpoint_sync_on_driver(endpoint, iterations):\r\n",
        "    def call_endpoint(index):  \r\n",
        "        try:\r\n",
        "            response = requests.get(endpoint)\r\n",
        "        \r\n",
        "            if response.status_code == 200:\r\n",
        "                #print(f\"Call {index}: HTTP 200 OK - Response Time: {elapsed_time:.4f} seconds\")\r\n",
        "                return response.text\r\n",
        "            else:\r\n",
        "                print(f\"Call {index}: HTTP {response.status_code}\")\r\n",
        "                return None\r\n",
        "        except requests.exceptions.RequestException as e:\r\n",
        "            print(f\"Call {index}: Failed with error: {e}\")\r\n",
        "            return None\r\n",
        "\r\n",
        "    start_time = time.time()\r\n",
        "\r\n",
        "    for i in range(1, iterations + 1):\r\n",
        "        response_time = call_endpoint(i)\r\n",
        "    \r\n",
        "    elapsed_time = time.time() - start_time\r\n",
        "    \r\n",
        "    # Log statistics\r\n",
        "    print(\"Function: call_endpoint_sync_on_driver\")\r\n",
        "    print(f\"Overall Response Time for {iterations} calls: {elapsed_time:.2f} seconds\")\r\n",
        "    return elapsed_time\r\n",
        "\r\n",
        "call_endpoint_sync_on_driver(test_endpoint, number_of_http_calls)"
      ],
      "outputs": [
        {
          "output_type": "display_data",
          "data": {
            "application/vnd.livy.statement-meta+json": {
              "spark_pool": "jvwpool",
              "statement_id": 4,
              "statement_ids": [
                4
              ],
              "state": "finished",
              "livy_statement_state": "available",
              "spark_jobs": null,
              "session_id": "5",
              "normalized_state": "finished",
              "queued_time": "2025-04-17T07:56:00.0037434Z",
              "session_start_time": null,
              "execution_start_time": "2025-04-17T07:56:00.1433475Z",
              "execution_finish_time": "2025-04-17T07:56:13.0218008Z",
              "parent_msg_id": "d6742e3e-8648-485e-9c3c-ef000728c670"
            },
            "text/plain": "StatementMeta(jvwpool, 5, 4, Finished, Available, Finished)"
          },
          "metadata": {}
        },
        {
          "output_type": "stream",
          "name": "stdout",
          "text": [
            "Function: call_endpoint_sync_on_driver\nOverall Response Time for 10 calls: 10.70 seconds\n"
          ]
        },
        {
          "output_type": "execute_result",
          "execution_count": 9,
          "data": {
            "text/plain": "10.704922437667847"
          },
          "metadata": {}
        }
      ],
      "execution_count": 3,
      "metadata": {}
    },
    {
      "cell_type": "markdown",
      "source": [
        "## 2. On the driver - asynchronous\r\n",
        "\r\n",
        "- Runs on driver node (I think - check with B)\r\n",
        "- BUT: runs async - so parallelized\r\n",
        "\r\n",
        "\r\n",
        "**Observations**\r\n",
        "\r\n",
        "Approx 4x speed up - while running only on master node. So parellelization WITHOUT need of Spark pool (!)\r\n",
        "\r\n",
        "\r\n",
        "**Results**\r\n",
        "Azure function shows 4 req/sec\r\n",
        "\r\n",
        "```\r\n",
        "Overall Response Time for 10 calls: 3.0787 seconds\r\n",
        "```\r\n",
        "\r\n",
        "```\r\n",
        "Overall Response Time for 100 calls: 15.5005 seconds\r\n",
        "```"
      ],
      "metadata": {
        "nteract": {
          "transient": {
            "deleting": false
          }
        }
      }
    },
    {
      "cell_type": "code",
      "source": [
        "import aiohttp\r\n",
        "import asyncio\r\n",
        "import nest_asyncio\r\n",
        "\r\n",
        "nest_asyncio.apply()\r\n",
        "\r\n",
        "spark = SparkSession.builder.getOrCreate()\r\n",
        "spark.sparkContext.setJobGroup(\"Experiment#2\", \"Async on driver\")\r\n",
        "\r\n",
        "\r\n",
        "async def call_endpoint_async_on_driver(endpoint, iterations):\r\n",
        "    async def call_endpoint(session, index):\r\n",
        "        try:\r\n",
        "            async with session.get(endpoint) as response:           \r\n",
        "                if response.status == 200:\r\n",
        "                    #print(f\"Call {index}: HTTP 200 OK - Response Time: {elapsed_time:.4f} seconds\")\r\n",
        "                    return response.text\r\n",
        "                else:\r\n",
        "                    print(f\"Call {index}: HTTP {response.status}\")\r\n",
        "                    return None\r\n",
        "        except aiohttp.ClientError as e:\r\n",
        "            print(f\"Call {index}: Failed with error: {e}\")\r\n",
        "            return None\r\n",
        "\r\n",
        "    start_time = time.time()\r\n",
        "\r\n",
        "    async with aiohttp.ClientSession() as session:\r\n",
        "        tasks = [call_endpoint(session, i) for i in range(1, iterations + 1)]\r\n",
        "        results = await asyncio.gather(*tasks)\r\n",
        "\r\n",
        "    elapsed_time = time.time() - start_time\r\n",
        "    \r\n",
        "    # Log statistics\r\n",
        "    print(\"Function: call_endpoint_async_on_driver\")\r\n",
        "    print(f\"Overall Response Time for {iterations} calls: {elapsed_time:.2f} seconds\")\r\n",
        "    return elapsed_time\r\n",
        "\r\n",
        "asyncio.run(call_endpoint_async_on_driver(test_endpoint, number_of_http_calls))\r\n"
      ],
      "outputs": [
        {
          "output_type": "display_data",
          "data": {
            "application/vnd.livy.statement-meta+json": {
              "spark_pool": "jvwpool",
              "statement_id": 9,
              "statement_ids": [
                9
              ],
              "state": "finished",
              "livy_statement_state": "available",
              "spark_jobs": null,
              "session_id": "6",
              "normalized_state": "finished",
              "queued_time": "2025-04-17T08:17:33.2683423Z",
              "session_start_time": null,
              "execution_start_time": "2025-04-17T08:17:33.2703524Z",
              "execution_finish_time": "2025-04-17T08:17:46.3021567Z",
              "parent_msg_id": "4c4cf9e6-9f76-45af-a067-9a696cdf9123"
            },
            "text/plain": "StatementMeta(jvwpool, 6, 9, Finished, Available, Finished)"
          },
          "metadata": {}
        },
        {
          "output_type": "stream",
          "name": "stdout",
          "text": [
            "Function: call_endpoint_async_on_driver\nOverall Response Time for 100 calls: 12.52 seconds\n"
          ]
        },
        {
          "output_type": "execute_result",
          "execution_count": 19,
          "data": {
            "text/plain": "12.51823377609253"
          },
          "metadata": {}
        }
      ],
      "execution_count": 8,
      "metadata": {
        "jupyter": {
          "source_hidden": false,
          "outputs_hidden": false
        },
        "nteract": {
          "transient": {
            "deleting": false
          }
        }
      }
    },
    {
      "cell_type": "markdown",
      "source": [
        "## 3. On the executors - synchronous\r\n",
        "\r\n",
        "- Distributes over worker nodes\r\n",
        "- Runs sync on the workder nodes\r\n",
        "\r\n",
        "**Observations**\r\n",
        "- Faster than on driver node sync\r\n",
        "- Slower (for 10 calls) than purely on driver node. Probably due to overhead of distributuing tasks over worker nodes and gathering results\r\n",
        "\r\n",
        "**Results**\r\n",
        "```\r\n",
        "Overall Response Time for 10 calls: 7.0602 seconds\r\n",
        "```\r\n",
        "\r\n",
        "```\r\n",
        "Overall Response Time for 100 calls: 25.8654 seconds\r\n",
        "```"
      ],
      "metadata": {
        "nteract": {
          "transient": {
            "deleting": false
          }
        }
      }
    },
    {
      "cell_type": "code",
      "source": [
        "from pyspark.sql import session\r\n",
        "from pyspark.sql.functions import udf\r\n",
        "\r\n",
        "import pyspark.sql.functions as F\r\n",
        "\r\n",
        "import requests\r\n",
        "import random\r\n",
        "import string\r\n",
        "import time\r\n",
        "\r\n",
        "spark = session.SparkSession.builder \\\r\n",
        "    .appName(\"HTTP parallel calls over dataframe\") \\\r\n",
        "    .getOrCreate()\r\n",
        "spark.sparkContext.setJobGroup(\"Experiment#3\", \"Sync on executors\")\r\n",
        "\r\n",
        "\r\n",
        "def call_endpoint_sync_on_executors(endpoint, iterations):\r\n",
        "    def generate_random_names(count):\r\n",
        "        return [''.join(random.choices(string.ascii_letters, k=8)) for _ in range(count)]\r\n",
        "\r\n",
        "    def call_endpoint(name):\r\n",
        "        try:\r\n",
        "            ep = f\"{endpoint}?name={name}\"\r\n",
        "            response = requests.get(ep)\r\n",
        "            if response.status_code == 200:\r\n",
        "                return response.text\r\n",
        "            else:\r\n",
        "                return f\"Failed for {name} with status code {response.status_code}\"\r\n",
        "        except Exception as e:\r\n",
        "            return f\"Error for {name}: {str(e)}\"\r\n",
        "\r\n",
        "    call_endpoint_udf = udf(call_endpoint)\r\n",
        "    \r\n",
        "    random_names = generate_random_names(iterations)\r\n",
        "    \r\n",
        "    names_df = spark.createDataFrame([(name,) for name in random_names], [\"name\"])\r\n",
        "    \r\n",
        "    # Repartition the dataframe to take max advantage of #cores for given dataset\r\n",
        "    names_df.repartition(partition_count)\r\n",
        "    #names_df.groupBy(F.spark_partition_id()).count().show()\r\n",
        "\r\n",
        "    print(f\"Number of partitions: {names_df.rdd.getNumPartitions()}\")\r\n",
        "    print(f\"DF count {names_df.count()}\")\r\n",
        "\r\n",
        "    start_time = time.time()    \r\n",
        "\r\n",
        "    result_df = names_df \\\r\n",
        "        .withColumn(\"response\", call_endpoint_udf(names_df[\"name\"])) \\\r\n",
        "        .persist()\r\n",
        "    \r\n",
        "    result_df.collect()\r\n",
        "    \r\n",
        "    elapsed_time = time.time() - start_time\r\n",
        "    \r\n",
        "    # Log statistics\r\n",
        "    print(\"Function: call_endpoint_sync_on_executors\")\r\n",
        "    print(f\"Overall Response Time for {iterations} calls: {elapsed_time:.2f} seconds\")\r\n",
        "    return elapsed_time\r\n",
        "\r\n",
        "call_endpoint_sync_on_executors(test_endpoint, number_of_http_calls)"
      ],
      "outputs": [
        {
          "output_type": "display_data",
          "data": {
            "application/vnd.livy.statement-meta+json": {
              "spark_pool": "jvwpool",
              "statement_id": 10,
              "statement_ids": [
                10
              ],
              "state": "finished",
              "livy_statement_state": "available",
              "spark_jobs": null,
              "session_id": "6",
              "normalized_state": "finished",
              "queued_time": "2025-04-17T08:17:56.0516025Z",
              "session_start_time": null,
              "execution_start_time": "2025-04-17T08:17:56.053336Z",
              "execution_finish_time": "2025-04-17T08:18:23.5741767Z",
              "parent_msg_id": "32e723b7-1c71-4a7a-ac67-e40c72ebb294"
            },
            "text/plain": "StatementMeta(jvwpool, 6, 10, Finished, Available, Finished)"
          },
          "metadata": {}
        },
        {
          "output_type": "stream",
          "name": "stdout",
          "text": [
            "Number of partitions: 4\nDF count 100\nFunction: call_endpoint_sync_on_executors\nOverall Response Time for 100 calls: 26.91 seconds\n"
          ]
        },
        {
          "output_type": "execute_result",
          "execution_count": 21,
          "data": {
            "text/plain": "26.90829110145569"
          },
          "metadata": {}
        }
      ],
      "execution_count": 9,
      "metadata": {
        "jupyter": {
          "source_hidden": false,
          "outputs_hidden": false
        },
        "nteract": {
          "transient": {
            "deleting": false
          }
        }
      }
    },
    {
      "cell_type": "markdown",
      "source": [
        "## 4. On the executors - asynchronous\r\n",
        "\r\n",
        "- Distributes over executors\r\n",
        "- Runs async on the executors\r\n",
        "\r\n",
        "**Observations**\r\n",
        "- Fastest (together with driver/async)\r\n",
        "- Slower (for 10 calls) than purely on driver node. Probably due to overhead of distributuing tasks over worker nodes and gathering results\r\n",
        "\r\n",
        "**Results**\r\n",
        "\r\n",
        "```\r\n",
        "Overall Response Time for 100 calls: 14.9272 seconds\r\n",
        "```"
      ],
      "metadata": {
        "nteract": {
          "transient": {
            "deleting": false
          }
        }
      }
    },
    {
      "cell_type": "code",
      "source": [
        "import random\r\n",
        "import string\r\n",
        "import time\r\n",
        "import asyncio\r\n",
        "import aiohttp\r\n",
        "\r\n",
        "from pyspark.sql import SparkSession\r\n",
        "\r\n",
        "spark = SparkSession.builder \\\r\n",
        "    .appName(\"HTTP parallel calls over dataframe (async)\") \\\r\n",
        "    .getOrCreate()\r\n",
        "spark.sparkContext.setJobGroup(\"Experiment#4\", \"Async on executors\")\r\n",
        "\r\n",
        "\r\n",
        "def call_endpoint_async_on_executors(endpoint, iterations):\r\n",
        "    def generate_random_names(count):\r\n",
        "        return [''.join(random.choices(string.ascii_letters, k=8)) for _ in range(count)]\r\n",
        "\r\n",
        "    async def call_endpoint(session, url):\r\n",
        "        try:\r\n",
        "            async with session.get(url) as response:\r\n",
        "                if response.status == 200:\r\n",
        "                    return await response.text()\r\n",
        "                else:\r\n",
        "                    return f\"Failed with status code {response.status}\"\r\n",
        "        except Exception as e:\r\n",
        "            return f\"Error: {str(e)}\"\r\n",
        "\r\n",
        "    async def fetch_all(urls):\r\n",
        "        async with aiohttp.ClientSession() as session:\r\n",
        "            tasks = [asyncio.create_task(call_endpoint(session, url)) for url in urls]\r\n",
        "            return await asyncio.gather(*tasks)\r\n",
        "\r\n",
        "    def async_fetch_partition(iterator):\r\n",
        "        names = list(iterator)\r\n",
        "        if not names:\r\n",
        "            return\r\n",
        "        \r\n",
        "        urls = [f\"{endpoint}?name={row[0]}\" for row in names]\r\n",
        "        \r\n",
        "        results = asyncio.run(fetch_all(urls))\r\n",
        "        \r\n",
        "        for (name,), result in zip(names, results):\r\n",
        "            yield (name, result)    \r\n",
        "            \r\n",
        "    random_names = generate_random_names(iterations)\r\n",
        "\r\n",
        "    names_df = spark.createDataFrame([(name,) for name in random_names], [\"name\"])\r\n",
        "\r\n",
        "    # Repartition the dataframe to take max advantage of #cores for given dataset\r\n",
        "    names_df.repartition(partition_count)\r\n",
        "    #names_df.groupBy(F.spark_partition_id()).count().show()\r\n",
        "    \r\n",
        "    start_time = time.time()\r\n",
        "    \r\n",
        "    # Apply mapPartitions to do async HTTP calls\r\n",
        "    # Here we convert the DataFrame to RDD, map partitions, and then back to DataFrame\r\n",
        "    # The schema: name: string, response: string\r\n",
        "    \r\n",
        "    result_rdd = names_df.rdd.mapPartitions(async_fetch_partition)\r\n",
        "    result_df = spark.createDataFrame(result_rdd, schema=[\"name\", \"response\"]).persist()\r\n",
        "    \r\n",
        "    # For verification, you can show some results (uncomment if needed)\r\n",
        "    result_df.collect()\r\n",
        "    \r\n",
        "    elapsed_time = time.time() - start_time\r\n",
        "    \r\n",
        "    # Log statistics\r\n",
        "    print(\"Function: call_endpoint_async_on_executors\")\r\n",
        "    print(f\"Overall Response Time for {iterations} calls: {elapsed_time:.2f} seconds\")\r\n",
        "    return elapsed_time\r\n",
        "\r\n",
        "call_endpoint_async_on_executors(test_endpoint, number_of_http_calls)"
      ],
      "outputs": [
        {
          "output_type": "display_data",
          "data": {
            "application/vnd.livy.statement-meta+json": {
              "spark_pool": "jvwpool",
              "statement_id": 14,
              "statement_ids": [
                14
              ],
              "state": "finished",
              "livy_statement_state": "available",
              "spark_jobs": null,
              "session_id": "6",
              "normalized_state": "finished",
              "queued_time": "2025-04-17T08:21:20.2245816Z",
              "session_start_time": null,
              "execution_start_time": "2025-04-17T08:21:20.2266414Z",
              "execution_finish_time": "2025-04-17T08:21:39.3904328Z",
              "parent_msg_id": "18fa40d2-4db8-45e7-8263-3496b08c08b6"
            },
            "text/plain": "StatementMeta(jvwpool, 6, 14, Finished, Available, Finished)"
          },
          "metadata": {}
        },
        {
          "output_type": "stream",
          "name": "stdout",
          "text": [
            "Function: call_endpoint_async_on_executors\nOverall Response Time for 100 calls: 18.20 seconds\n"
          ]
        },
        {
          "output_type": "execute_result",
          "execution_count": 29,
          "data": {
            "text/plain": "18.1979079246521"
          },
          "metadata": {}
        }
      ],
      "execution_count": 13,
      "metadata": {
        "jupyter": {
          "source_hidden": false,
          "outputs_hidden": false
        },
        "nteract": {
          "transient": {
            "deleting": false
          }
        }
      }
    },
    {
      "cell_type": "markdown",
      "source": [
        "## Benchmark"
      ],
      "metadata": {
        "nteract": {
          "transient": {
            "deleting": false
          }
        }
      }
    },
    {
      "cell_type": "code",
      "source": [
        "import pandas as pd\r\n",
        "import matplotlib.pyplot as plt\r\n",
        "import asyncio\r\n",
        "\r\n",
        "nest_asyncio.apply()\r\n",
        "\r\n",
        "# Define the iterations\r\n",
        "#iterations_list = [1,2,4]\r\n",
        "iterations_list = [50,100,150]\r\n",
        "\r\n",
        "# Dictionary to store results\r\n",
        "results = {\r\n",
        "    \"Iterations\": iterations_list,\r\n",
        "    \"call_endpoint_sync_on_driver\": [],\r\n",
        "    \"call_endpoint_async_on_driver\": [],\r\n",
        "    \"call_endpoint_sync_on_executors\": [],\r\n",
        "    \"call_endpoint_async_on_executors\": []\r\n",
        "}\r\n",
        "\r\n",
        "# Define async function to gather results\r\n",
        "def gather_results():\r\n",
        "    for iterations in iterations_list:\r\n",
        "        # Sync on driver\r\n",
        "        #sync_on_driver_time = call_endpoint_sync_on_driver(test_endpoint, iterations)\r\n",
        "        #results[\"call_endpoint_sync_on_driver\"].append(sync_on_driver_time)\r\n",
        "        results[\"call_endpoint_sync_on_driver\"].append(iterations)        \r\n",
        "        \r\n",
        "        # Async on driver        \r\n",
        "        async_on_driver_time = asyncio.run(call_endpoint_async_on_driver(test_endpoint, iterations))\r\n",
        "        results[\"call_endpoint_async_on_driver\"].append(async_on_driver_time)\r\n",
        "        \r\n",
        "        # Sync on executors\r\n",
        "        sync_on_executors_time = call_endpoint_sync_on_executors(test_endpoint, iterations)\r\n",
        "        results[\"call_endpoint_sync_on_executors\"].append(sync_on_executors_time)\r\n",
        "        \r\n",
        "        # Async on executors\r\n",
        "        async_on_executors_time = call_endpoint_async_on_executors(test_endpoint, iterations)\r\n",
        "        results[\"call_endpoint_async_on_executors\"].append(async_on_executors_time)\r\n",
        "\r\n",
        "# Run the async function to populate results\r\n",
        "gather_results()\r\n",
        "\r\n",
        "# Convert results to a Pandas DataFrame\r\n",
        "df = pd.DataFrame(results)\r\n",
        "\r\n",
        "\r\n"
      ],
      "outputs": [
        {
          "output_type": "display_data",
          "data": {
            "application/vnd.livy.statement-meta+json": {
              "spark_pool": "jvwpool",
              "statement_id": 15,
              "statement_ids": [
                15
              ],
              "state": "finished",
              "livy_statement_state": "available",
              "spark_jobs": null,
              "session_id": "6",
              "normalized_state": "finished",
              "queued_time": "2025-04-17T08:22:28.4787727Z",
              "session_start_time": null,
              "execution_start_time": "2025-04-17T08:22:28.480666Z",
              "execution_finish_time": "2025-04-17T08:25:39.6784827Z",
              "parent_msg_id": "d8fafea0-d33a-4970-b1e8-bcdf1774ce9f"
            },
            "text/plain": "StatementMeta(jvwpool, 6, 15, Finished, Available, Finished)"
          },
          "metadata": {}
        },
        {
          "output_type": "stream",
          "name": "stdout",
          "text": [
            "Function: call_endpoint_async_on_driver\nOverall Response Time for 50 calls: 7.24 seconds\nNumber of partitions: 4\nDF count 50\nFunction: call_endpoint_sync_on_executors\nOverall Response Time for 50 calls: 15.26 seconds\nFunction: call_endpoint_async_on_executors\nOverall Response Time for 50 calls: 9.87 seconds\nFunction: call_endpoint_async_on_driver\nOverall Response Time for 100 calls: 13.51 seconds\nNumber of partitions: 4\nDF count 100\nFunction: call_endpoint_sync_on_executors\nOverall Response Time for 100 calls: 31.73 seconds\nFunction: call_endpoint_async_on_executors\nOverall Response Time for 100 calls: 19.88 seconds\nFunction: call_endpoint_async_on_driver\nOverall Response Time for 150 calls: 21.79 seconds\nNumber of partitions: 4\nDF count 150\nFunction: call_endpoint_sync_on_executors\nOverall Response Time for 150 calls: 41.26 seconds\nFunction: call_endpoint_async_on_executors\nOverall Response Time for 150 calls: 24.86 seconds\n"
          ]
        }
      ],
      "execution_count": 14,
      "metadata": {
        "jupyter": {
          "source_hidden": false,
          "outputs_hidden": false
        },
        "nteract": {
          "transient": {
            "deleting": false
          }
        },
        "collapsed": false
      }
    },
    {
      "cell_type": "code",
      "source": [
        "# Display the results as a table\r\n",
        "display(df)\r\n",
        "\r\n",
        "# Plot the results\r\n",
        "plt.figure(figsize=(10, 6))\r\n",
        "#plt.plot(df[\"Iterations\"], df[\"call_endpoint_sync_on_driver\"], label=\"Sync on Driver\")\r\n",
        "plt.plot(df[\"Iterations\"], df[\"call_endpoint_async_on_driver\"], label=\"Async on Driver\")\r\n",
        "plt.plot(df[\"Iterations\"], df[\"call_endpoint_sync_on_executors\"], label=\"Sync on Executors\")\r\n",
        "plt.plot(df[\"Iterations\"], df[\"call_endpoint_async_on_executors\"], label=\"Async on Executors\")\r\n",
        "\r\n",
        "plt.xlabel(\"Number of Iterations\")\r\n",
        "plt.ylabel(\"Execution Time (seconds)\")\r\n",
        "plt.title(\"Execution Time vs. Number of Iterations\")\r\n",
        "plt.legend()\r\n",
        "plt.grid(True)\r\n",
        "plt.show()"
      ],
      "outputs": [
        {
          "output_type": "display_data",
          "data": {
            "application/vnd.livy.statement-meta+json": {
              "spark_pool": "jvwpool",
              "statement_id": 16,
              "statement_ids": [
                16
              ],
              "state": "finished",
              "livy_statement_state": "available",
              "spark_jobs": null,
              "session_id": "6",
              "normalized_state": "finished",
              "queued_time": "2025-04-17T08:28:34.1048238Z",
              "session_start_time": null,
              "execution_start_time": "2025-04-17T08:28:34.1066197Z",
              "execution_finish_time": "2025-04-17T08:28:35.3830997Z",
              "parent_msg_id": "f918e76e-6a10-4c8d-8c1a-b621e9715efa"
            },
            "text/plain": "StatementMeta(jvwpool, 6, 16, Finished, Available, Finished)"
          },
          "metadata": {}
        },
        {
          "output_type": "display_data",
          "data": {
            "application/vnd.synapse.widget-view+json": {
              "widget_id": "c9007cfc-d34a-44b5-8cb0-5395062c578a",
              "widget_type": "Synapse.DataFrame"
            },
            "text/plain": "SynapseWidget(Synapse.DataFrame, c9007cfc-d34a-44b5-8cb0-5395062c578a)"
          },
          "metadata": {}
        },
        {
          "output_type": "display_data",
          "data": {
            "text/plain": "<Figure size 1000x600 with 1 Axes>",
            "image/png": "[encoded data removed]"
          },
          "metadata": {}
        }
      ],
      "execution_count": 15,
      "metadata": {
        "jupyter": {
          "source_hidden": false,
          "outputs_hidden": false
        },
        "nteract": {
          "transient": {
            "deleting": false
          }
        },
        "collapsed": false
      }
    },
    {
      "cell_type": "code",
      "source": [
        "import random\r\n",
        "import string\r\n",
        "import time\r\n",
        "import asyncio\r\n",
        "import aiohttp\r\n",
        "\r\n",
        "from pyspark.sql import SparkSession\r\n",
        "\r\n",
        "spark = SparkSession.builder \\\r\n",
        "    .appName(\"call_endpoint_sync_on_executors_using_mappartition\") \\\r\n",
        "    .getOrCreate()\r\n",
        "\r\n",
        "def call_endpoint_sync_on_executors_using_mappartition(endpoint, iterations):\r\n",
        "    def generate_random_names(count):\r\n",
        "        return [''.join(random.choices(string.ascii_letters, k=8)) for _ in range(count)]\r\n",
        "\r\n",
        "\r\n",
        "    def call_endpoint(name):\r\n",
        "        try:\r\n",
        "            ep = f\"{endpoint}?name={name}\"\r\n",
        "            response = requests.get(ep)\r\n",
        "            if response.status_code == 200:\r\n",
        "                return response.text\r\n",
        "            else:\r\n",
        "                return f\"Failed for {name} with status code {response.status_code}\"\r\n",
        "        except Exception as e:\r\n",
        "            return f\"Error for {name}: {str(e)}\"\r\n",
        "    \r\n",
        "    def fetch_all(urls):\r\n",
        "        with aiohttp.ClientSession() as session:\r\n",
        "            return [call_endpoint(url) for url in urls]\r\n",
        "\r\n",
        "    def fetch_partition(iterator):\r\n",
        "        names = list(iterator)\r\n",
        "        if not names:\r\n",
        "            return\r\n",
        "        \r\n",
        "        urls = [f\"{endpoint}?name={row[0]}\" for row in names]\r\n",
        "        fetch_all(urls)\r\n",
        "        \r\n",
        "        for (name,), result in zip(names, results):\r\n",
        "            yield (name, result)    \r\n",
        "            \r\n",
        "    random_names = generate_random_names(iterations)\r\n",
        "\r\n",
        "    names_df = spark.createDataFrame([(name,) for name in random_names], [\"name\"])\r\n",
        "\r\n",
        "    # Repartition the dataframe to take max advantage of #cores for given dataset\r\n",
        "    cores_per_executor = 4\r\n",
        "    num_executors = 5\r\n",
        "    names_df.repartition(cores_per_executor * num_executors)\r\n",
        "    #names_df.groupBy(F.spark_partition_id()).count().show()\r\n",
        "    \r\n",
        "    start_time = time.time()\r\n",
        "    \r\n",
        "    # Apply mapPartitions to do async HTTP calls\r\n",
        "    # Here we convert the DataFrame to RDD, map partitions, and then back to DataFrame\r\n",
        "    # The schema: name: string, response: string\r\n",
        "    \r\n",
        "    result_rdd = names_df.rdd.mapPartitions(fetch_partition)\r\n",
        "    result_df = spark.createDataFrame(result_rdd, schema=[\"name\", \"response\"]).persist()\r\n",
        "    \r\n",
        "    # For verification, you can show some results (uncomment if needed)\r\n",
        "    result_df.collect()\r\n",
        "    \r\n",
        "    elapsed_time = time.time() - start_time\r\n",
        "    \r\n",
        "    # Log statistics\r\n",
        "    print(\"Function: call_endpoint_sync_on_executors_using_mappartition\")\r\n",
        "    print(f\"Overall Response Time for {iterations} calls: {elapsed_time:.2f} seconds\")\r\n",
        "    return elapsed_time\r\n",
        "\r\n",
        "call_endpoint_async_on_executors(test_endpoint, number_of_http_calls)"
      ],
      "outputs": [
        {
          "output_type": "display_data",
          "data": {
            "application/vnd.livy.statement-meta+json": {
              "spark_pool": null,
              "statement_id": -1,
              "statement_ids": null,
              "state": "waiting",
              "livy_statement_state": null,
              "spark_jobs": null,
              "session_id": null,
              "normalized_state": "waiting",
              "queued_time": "2025-04-17T07:56:02.2361939Z",
              "session_start_time": null,
              "execution_start_time": null,
              "execution_finish_time": null,
              "parent_msg_id": "fdf82b95-7bc7-40e6-99ee-ea14c3bc7ee2"
            },
            "text/plain": "StatementMeta(, , -1, Waiting, , Waiting)"
          },
          "metadata": {}
        }
      ],
      "execution_count": null,
      "metadata": {
        "jupyter": {
          "source_hidden": false,
          "outputs_hidden": false
        },
        "nteract": {
          "transient": {
            "deleting": false
          }
        }
      }
    }
  ],
  "metadata": {
    "language_info": {
      "name": "python"
    },
    "kernelspec": {
      "name": "synapse_pyspark",
      "language": "Python",
      "display_name": "Synapse PySpark"
    },
    "kernel_info": {
      "name": "synapse_pyspark"
    },
    "description": null,
    "save_output": true,
    "synapse_widget": {
      "version": "0.1",
      "state": {
        "c9007cfc-d34a-44b5-8cb0-5395062c578a": {
          "type": "Synapse.DataFrame",
          "sync_state": {
            "table": {
              "rows": [
                {
                  "0": "50",
                  "1": "50",
                  "2": "7.2427129745",
                  "3": "15.2593801022",
                  "4": "9.8653941154"
                },
                {
                  "0": "100",
                  "1": "100",
                  "2": "13.5070040226",
                  "3": "31.7319927216",
                  "4": "19.8847215176"
                },
                {
                  "0": "150",
                  "1": "150",
                  "2": "21.7876198292",
                  "3": "41.2582085133",
                  "4": "24.8608398438"
                }
              ],
              "schema": [
                {
                  "key": "0",
                  "name": "Iterations",
                  "type": "bigint"
                },
                {
                  "key": "1",
                  "name": "call_endpoint_sync_on_driver",
                  "type": "bigint"
                },
                {
                  "key": "2",
                  "name": "call_endpoint_async_on_driver",
                  "type": "double"
                },
                {
                  "key": "3",
                  "name": "call_endpoint_sync_on_executors",
                  "type": "double"
                },
                {
                  "key": "4",
                  "name": "call_endpoint_async_on_executors",
                  "type": "double"
                }
              ],
              "truncated": false
            },
            "isSummary": false,
            "language": "python",
            "wranglerEntryContext": {
              "candidateVariableNames": [
                "df"
              ],
              "dataframeType": "pandas"
            }
          },
          "persist_state": {
            "view": {
              "type": "details",
              "tableOptions": {},
              "chartOptions": {
                "chartType": "bar",
                "aggregationType": "sum",
                "categoryFieldKeys": [
                  "1"
                ],
                "seriesFieldKeys": [
                  "0"
                ],
                "isStacked": false
              }
            }
          }
        }
      }
    }
  },
  "nbformat": 4,
  "nbformat_minor": 2
}