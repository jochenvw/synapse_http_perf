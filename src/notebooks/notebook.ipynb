{
  "cells": [
    {
      "cell_type": "markdown",
      "source": [
        "# Parallelizing HTTP calls using Spark\r\n",
        "\r\n",
        "We're looking for fastest way to make HTTP calls - while being the cheapest (i.e. using least amount of compute or nodes)"
      ],
      "metadata": {
        "nteract": {
          "transient": {
            "deleting": false
          }
        }
      }
    },
    {
      "cell_type": "code",
      "source": [
        "number_of_http_calls = 10\r\n",
        "test_endpoint = \"https://nl-stu-jvw-func.azurewebsites.net/api/echo\""
      ],
      "outputs": [
        {
          "output_type": "display_data",
          "data": {
            "application/vnd.livy.statement-meta+json": {
              "spark_pool": "jvwpool",
              "statement_id": 2,
              "statement_ids": [
                2
              ],
              "state": "finished",
              "livy_statement_state": "available",
              "spark_jobs": null,
              "session_id": "13",
              "normalized_state": "finished",
              "queued_time": "2024-12-09T16:12:34.998368Z",
              "session_start_time": "2024-12-09T16:12:35.0471997Z",
              "execution_start_time": "2024-12-09T16:13:28.0062055Z",
              "execution_finish_time": "2024-12-09T16:13:28.1747339Z",
              "parent_msg_id": "18563bd3-0fc3-4066-88c8-05a63b6ce8d8"
            },
            "text/plain": "StatementMeta(jvwpool, 13, 2, Finished, Available, Finished)"
          },
          "metadata": {}
        }
      ],
      "execution_count": 1,
      "metadata": {
        "jupyter": {
          "source_hidden": false,
          "outputs_hidden": false
        },
        "nteract": {
          "transient": {
            "deleting": false
          }
        }
      }
    },
    {
      "cell_type": "markdown",
      "source": [
        "## 1. On the driver - synchronous\r\n",
        "\r\n",
        "- Runs on driver (I think - check with B)\r\n",
        "- Runs sequentially: `for .. etc` and blocking call to request.get\r\n",
        "\r\n",
        "**Observations**\r\n",
        "\r\n",
        "- Worst performance - approx 100 x 1sec execution\r\n",
        "- Azure function shows 1 req/sec\r\n",
        "\r\n",
        "\r\n",
        "**Results**\r\n",
        "```\r\n",
        "Average Response Time: 1.0735 seconds\r\n",
        "Overall Response Time for 10 calls: 10.7349 seconds\r\n",
        "```\r\n",
        "\r\n",
        "```\r\n",
        "Average Response Time: 1.0663 seconds\r\n",
        "Overall Response Time for 100 calls: 106.6314 seconds\r\n",
        "```"
      ],
      "metadata": {
        "nteract": {
          "transient": {
            "deleting": false
          }
        }
      }
    },
    {
      "cell_type": "code",
      "source": [
        "import requests\r\n",
        "import time\r\n",
        "\r\n",
        "def call_endpoint_sync_on_driver(endpoint, iterations):\r\n",
        "    def call_endpoint(index):  \r\n",
        "        try:\r\n",
        "            response = requests.get(endpoint)\r\n",
        "        \r\n",
        "            if response.status_code == 200:\r\n",
        "                #print(f\"Call {index}: HTTP 200 OK - Response Time: {elapsed_time:.4f} seconds\")\r\n",
        "                return response.text\r\n",
        "            else:\r\n",
        "                print(f\"Call {index}: HTTP {response.status_code}\")\r\n",
        "                return None\r\n",
        "        except requests.exceptions.RequestException as e:\r\n",
        "            print(f\"Call {index}: Failed with error: {e}\")\r\n",
        "            return None\r\n",
        "\r\n",
        "    start_time = time.time()\r\n",
        "\r\n",
        "    for i in range(1, iterations + 1):\r\n",
        "        response_time = call_endpoint(i)\r\n",
        "    \r\n",
        "    elapsed_time = time.time() - start_time\r\n",
        "    \r\n",
        "    # Log statistics\r\n",
        "    print(\"Function: call_endpoint_sync_on_driver\")\r\n",
        "    print(f\"Overall Response Time for {iterations} calls: {elapsed_time:.2f} seconds\")\r\n",
        "    return elapsed_time\r\n",
        "\r\n",
        "call_endpoint_sync_on_driver(test_endpoint, number_of_http_calls)"
      ],
      "outputs": [
        {
          "output_type": "display_data",
          "data": {
            "application/vnd.livy.statement-meta+json": {
              "spark_pool": "jvwpool",
              "statement_id": 3,
              "statement_ids": [
                3
              ],
              "state": "finished",
              "livy_statement_state": "available",
              "spark_jobs": null,
              "session_id": "13",
              "normalized_state": "finished",
              "queued_time": "2024-12-09T16:12:34.9993953Z",
              "session_start_time": null,
              "execution_start_time": "2024-12-09T16:13:28.3269141Z",
              "execution_finish_time": "2024-12-09T16:13:41.1749511Z",
              "parent_msg_id": "74cb7678-d6c2-4b94-a1a5-1dedf17613f8"
            },
            "text/plain": "StatementMeta(jvwpool, 13, 3, Finished, Available, Finished)"
          },
          "metadata": {}
        },
        {
          "output_type": "stream",
          "name": "stdout",
          "text": [
            "Function: call_endpoint_sync_on_driver\nOverall Response Time for 10 calls: 11.32 seconds\n"
          ]
        },
        {
          "output_type": "execute_result",
          "execution_count": 7,
          "data": {
            "text/plain": "11.321584701538086"
          },
          "metadata": {}
        }
      ],
      "execution_count": 2,
      "metadata": {}
    },
    {
      "cell_type": "markdown",
      "source": [
        "## 2. On the driver - asynchronous\r\n",
        "\r\n",
        "- Runs on driver node (I think - check with B)\r\n",
        "- BUT: runs async - so parallelized\r\n",
        "\r\n",
        "\r\n",
        "**Observations**\r\n",
        "\r\n",
        "Approx 4x speed up - while running only on master node. So parellelization WITHOUT need of Spark pool (!)\r\n",
        "\r\n",
        "\r\n",
        "**Results**\r\n",
        "Azure function shows 4 req/sec\r\n",
        "\r\n",
        "```\r\n",
        "Overall Response Time for 10 calls: 3.0787 seconds\r\n",
        "```\r\n",
        "\r\n",
        "```\r\n",
        "Overall Response Time for 100 calls: 15.5005 seconds\r\n",
        "```"
      ],
      "metadata": {
        "nteract": {
          "transient": {
            "deleting": false
          }
        }
      }
    },
    {
      "cell_type": "code",
      "source": [
        "import aiohttp\r\n",
        "import asyncio\r\n",
        "import nest_asyncio\r\n",
        "\r\n",
        "nest_asyncio.apply()\r\n",
        "\r\n",
        "async def call_endpoint_async_on_driver(endpoint, iterations):\r\n",
        "    async def call_endpoint(session, index):\r\n",
        "        try:\r\n",
        "            async with session.get(endpoint) as response:           \r\n",
        "                if response.status == 200:\r\n",
        "                    #print(f\"Call {index}: HTTP 200 OK - Response Time: {elapsed_time:.4f} seconds\")\r\n",
        "                    return response.text\r\n",
        "                else:\r\n",
        "                    print(f\"Call {index}: HTTP {response.status}\")\r\n",
        "                    return None\r\n",
        "        except aiohttp.ClientError as e:\r\n",
        "            print(f\"Call {index}: Failed with error: {e}\")\r\n",
        "            return None\r\n",
        "\r\n",
        "    start_time = time.time()\r\n",
        "\r\n",
        "    async with aiohttp.ClientSession() as session:\r\n",
        "        tasks = [call_endpoint(session, i) for i in range(1, iterations + 1)]\r\n",
        "        results = await asyncio.gather(*tasks)\r\n",
        "\r\n",
        "    elapsed_time = time.time() - start_time\r\n",
        "    \r\n",
        "    # Log statistics\r\n",
        "    print(\"Function: call_endpoint_async_on_driver\")\r\n",
        "    print(f\"Overall Response Time for {iterations} calls: {elapsed_time:.2f} seconds\")\r\n",
        "    return elapsed_time\r\n",
        "\r\n",
        "asyncio.run(call_endpoint_async_on_driver(test_endpoint, number_of_http_calls))\r\n"
      ],
      "outputs": [
        {
          "output_type": "display_data",
          "data": {
            "application/vnd.livy.statement-meta+json": {
              "spark_pool": "jvwpool",
              "statement_id": 4,
              "statement_ids": [
                4
              ],
              "state": "finished",
              "livy_statement_state": "available",
              "spark_jobs": null,
              "session_id": "13",
              "normalized_state": "finished",
              "queued_time": "2024-12-09T16:12:35.0003763Z",
              "session_start_time": null,
              "execution_start_time": "2024-12-09T16:13:41.3278818Z",
              "execution_finish_time": "2024-12-09T16:13:52.0562923Z",
              "parent_msg_id": "5ebf160f-dc93-47cc-be55-586f832c85ec"
            },
            "text/plain": "StatementMeta(jvwpool, 13, 4, Finished, Available, Finished)"
          },
          "metadata": {}
        },
        {
          "output_type": "stream",
          "name": "stdout",
          "text": [
            "Function: call_endpoint_async_on_driver\nOverall Response Time for 10 calls: 9.08 seconds\n"
          ]
        },
        {
          "output_type": "execute_result",
          "execution_count": 9,
          "data": {
            "text/plain": "9.079638242721558"
          },
          "metadata": {}
        }
      ],
      "execution_count": 3,
      "metadata": {
        "jupyter": {
          "source_hidden": false,
          "outputs_hidden": false
        },
        "nteract": {
          "transient": {
            "deleting": false
          }
        }
      }
    },
    {
      "cell_type": "markdown",
      "source": [
        "## 3. On the executors - synchronous\r\n",
        "\r\n",
        "- Distributes over worker nodes\r\n",
        "- Runs sync on the workder nodes\r\n",
        "\r\n",
        "**Observations**\r\n",
        "- Faster than on driver node sync\r\n",
        "- Slower (for 10 calls) than purely on driver node. Probably due to overhead of distributuing tasks over worker nodes and gathering results\r\n",
        "\r\n",
        "**Results**\r\n",
        "```\r\n",
        "Overall Response Time for 10 calls: 7.0602 seconds\r\n",
        "```\r\n",
        "\r\n",
        "```\r\n",
        "Overall Response Time for 100 calls: 25.8654 seconds\r\n",
        "```"
      ],
      "metadata": {
        "nteract": {
          "transient": {
            "deleting": false
          }
        }
      }
    },
    {
      "cell_type": "code",
      "source": [
        "from pyspark.sql import session\r\n",
        "from pyspark.sql.functions import udf\r\n",
        "\r\n",
        "import requests\r\n",
        "import random\r\n",
        "import string\r\n",
        "import time\r\n",
        "\r\n",
        "spark = session.SparkSession.builder \\\r\n",
        "    .appName(\"HTTP parallel calls over dataframe\") \\\r\n",
        "    .getOrCreate()\r\n",
        "\r\n",
        "\r\n",
        "def call_endpoint_sync_on_executors(endpoint, iterations):\r\n",
        "    def generate_random_names(count):\r\n",
        "        return [''.join(random.choices(string.ascii_letters, k=8)) for _ in range(count)]\r\n",
        "\r\n",
        "    def call_endpoint(name):\r\n",
        "        try:\r\n",
        "            ep = f\"{endpoint}?name={name}\"\r\n",
        "            response = requests.get(ep)\r\n",
        "            if response.status_code == 200:\r\n",
        "                return response.text\r\n",
        "            else:\r\n",
        "                return f\"Failed for {name} with status code {response.status_code}\"\r\n",
        "        except Exception as e:\r\n",
        "            return f\"Error for {name}: {str(e)}\"\r\n",
        "\r\n",
        "    call_endpoint_udf = udf(call_endpoint)\r\n",
        "    \r\n",
        "    random_names = generate_random_names(iterations)\r\n",
        "    \r\n",
        "    names_df = spark.createDataFrame([(name,) for name in random_names], [\"name\"])\r\n",
        "\r\n",
        "    start_time = time.time()    \r\n",
        "\r\n",
        "    result_df = names_df \\\r\n",
        "        .withColumn(\"response\", call_endpoint_udf(names_df[\"name\"])) \\\r\n",
        "        .persist()\r\n",
        "    \r\n",
        "    result_df.collect()\r\n",
        "    \r\n",
        "    elapsed_time = time.time() - start_time\r\n",
        "    \r\n",
        "    # Log statistics\r\n",
        "    print(\"Function: call_endpoint_sync_on_executors\")\r\n",
        "    print(f\"Overall Response Time for {iterations} calls: {elapsed_time:.2f} seconds\")\r\n",
        "    return elapsed_time\r\n",
        "\r\n",
        "call_endpoint_sync_on_executors(test_endpoint, number_of_http_calls)"
      ],
      "outputs": [
        {
          "output_type": "display_data",
          "data": {
            "application/vnd.livy.statement-meta+json": {
              "spark_pool": "jvwpool",
              "statement_id": 5,
              "statement_ids": [
                5
              ],
              "state": "finished",
              "livy_statement_state": "available",
              "spark_jobs": null,
              "session_id": "13",
              "normalized_state": "finished",
              "queued_time": "2024-12-09T16:12:35.0014053Z",
              "session_start_time": null,
              "execution_start_time": "2024-12-09T16:13:52.2059758Z",
              "execution_finish_time": "2024-12-09T16:14:03.0034806Z",
              "parent_msg_id": "85404081-70b4-4584-88db-bddfdd6c9693"
            },
            "text/plain": "StatementMeta(jvwpool, 13, 5, Finished, Available, Finished)"
          },
          "metadata": {}
        },
        {
          "output_type": "stream",
          "name": "stdout",
          "text": [
            "Function: call_endpoint_sync_on_executors\nOverall Response Time for 10 calls: 9.35 seconds\n"
          ]
        },
        {
          "output_type": "execute_result",
          "execution_count": 11,
          "data": {
            "text/plain": "9.345742225646973"
          },
          "metadata": {}
        }
      ],
      "execution_count": 4,
      "metadata": {
        "jupyter": {
          "source_hidden": false,
          "outputs_hidden": false
        },
        "nteract": {
          "transient": {
            "deleting": false
          }
        }
      }
    },
    {
      "cell_type": "markdown",
      "source": [
        "## 4. On the executors - asynchronous\r\n",
        "\r\n",
        "- Distributes over executors\r\n",
        "- Runs async on the executors\r\n",
        "\r\n",
        "**Observations**\r\n",
        "- Fastest (together with driver/async)\r\n",
        "- Slower (for 10 calls) than purely on driver node. Probably due to overhead of distributuing tasks over worker nodes and gathering results\r\n",
        "\r\n",
        "**Results**\r\n",
        "\r\n",
        "```\r\n",
        "Overall Response Time for 100 calls: 14.9272 seconds\r\n",
        "```"
      ],
      "metadata": {
        "nteract": {
          "transient": {
            "deleting": false
          }
        }
      }
    },
    {
      "cell_type": "code",
      "source": [
        "import random\r\n",
        "import string\r\n",
        "import time\r\n",
        "import asyncio\r\n",
        "import aiohttp\r\n",
        "\r\n",
        "from pyspark.sql import SparkSession\r\n",
        "\r\n",
        "spark = SparkSession.builder \\\r\n",
        "    .appName(\"HTTP parallel calls over dataframe (async)\") \\\r\n",
        "    .getOrCreate()\r\n",
        "\r\n",
        "def call_endpoint_async_on_executors(endpoint, iterations):\r\n",
        "    def generate_random_names(count):\r\n",
        "        return [''.join(random.choices(string.ascii_letters, k=8)) for _ in range(count)]\r\n",
        "\r\n",
        "    async def call_endpoint(session, url):\r\n",
        "        try:\r\n",
        "            async with session.get(url) as response:\r\n",
        "                if response.status == 200:\r\n",
        "                    return await response.text()\r\n",
        "                else:\r\n",
        "                    return f\"Failed with status code {response.status}\"\r\n",
        "        except Exception as e:\r\n",
        "            return f\"Error: {str(e)}\"\r\n",
        "\r\n",
        "    async def fetch_all(urls):\r\n",
        "        async with aiohttp.ClientSession() as session:\r\n",
        "            tasks = [asyncio.create_task(call_endpoint(session, url)) for url in urls]\r\n",
        "            return await asyncio.gather(*tasks)\r\n",
        "\r\n",
        "    def async_fetch_partition(iterator):\r\n",
        "        names = list(iterator)\r\n",
        "        if not names:\r\n",
        "            return\r\n",
        "        \r\n",
        "        urls = [f\"{endpoint}?name={row[0]}\" for row in names]\r\n",
        "        \r\n",
        "        results = asyncio.run(fetch_all(urls))\r\n",
        "        \r\n",
        "        for (name,), result in zip(names, results):\r\n",
        "            yield (name, result)    \r\n",
        "            \r\n",
        "    random_names = generate_random_names(iterations)\r\n",
        "\r\n",
        "    names_df = spark.createDataFrame([(name,) for name in random_names], [\"name\"])\r\n",
        "    \r\n",
        "    start_time = time.time()\r\n",
        "    \r\n",
        "    # Apply mapPartitions to do async HTTP calls\r\n",
        "    # Here we convert the DataFrame to RDD, map partitions, and then back to DataFrame\r\n",
        "    # The schema: name: string, response: string\r\n",
        "    result_rdd = names_df.rdd.mapPartitions(async_fetch_partition)\r\n",
        "    result_df = spark.createDataFrame(result_rdd, schema=[\"name\", \"response\"]).persist()\r\n",
        "    \r\n",
        "    # For verification, you can show some results (uncomment if needed)\r\n",
        "    result_df.collect()\r\n",
        "    \r\n",
        "    elapsed_time = time.time() - start_time\r\n",
        "    \r\n",
        "    # Log statistics\r\n",
        "    print(\"Function: call_endpoint_async_on_executors\")\r\n",
        "    print(f\"Overall Response Time for {iterations} calls: {elapsed_time:.2f} seconds\")\r\n",
        "    return elapsed_time\r\n",
        "\r\n",
        "call_endpoint_async_on_executors(test_endpoint, number_of_http_calls)"
      ],
      "outputs": [
        {
          "output_type": "display_data",
          "data": {
            "application/vnd.livy.statement-meta+json": {
              "spark_pool": "jvwpool",
              "statement_id": 6,
              "statement_ids": [
                6
              ],
              "state": "finished",
              "livy_statement_state": "available",
              "spark_jobs": null,
              "session_id": "13",
              "normalized_state": "finished",
              "queued_time": "2024-12-09T16:12:35.0027712Z",
              "session_start_time": null,
              "execution_start_time": "2024-12-09T16:14:03.1595441Z",
              "execution_finish_time": "2024-12-09T16:14:10.1312894Z",
              "parent_msg_id": "ab42385e-3f2e-4aa2-9e2b-c91c3d20eb28"
            },
            "text/plain": "StatementMeta(jvwpool, 13, 6, Finished, Available, Finished)"
          },
          "metadata": {}
        },
        {
          "output_type": "stream",
          "name": "stdout",
          "text": [
            "Function: call_endpoint_async_on_executors\nOverall Response Time for 10 calls: 6.21 seconds\n"
          ]
        },
        {
          "output_type": "execute_result",
          "execution_count": 13,
          "data": {
            "text/plain": "6.207916021347046"
          },
          "metadata": {}
        }
      ],
      "execution_count": 5,
      "metadata": {
        "jupyter": {
          "source_hidden": false,
          "outputs_hidden": false
        },
        "nteract": {
          "transient": {
            "deleting": false
          }
        }
      }
    },
    {
      "cell_type": "markdown",
      "source": [
        "## Benchmark"
      ],
      "metadata": {
        "nteract": {
          "transient": {
            "deleting": false
          }
        }
      }
    },
    {
      "cell_type": "code",
      "source": [
        "import pandas as pd\r\n",
        "import matplotlib.pyplot as plt\r\n",
        "import asyncio\r\n",
        "\r\n",
        "nest_asyncio.apply()\r\n",
        "\r\n",
        "# Define the iterations\r\n",
        "#iterations_list = [1,2,4]\r\n",
        "iterations_list = [50,100,150,200,250]\r\n",
        "\r\n",
        "# Dictionary to store results\r\n",
        "results = {\r\n",
        "    \"Iterations\": iterations_list,\r\n",
        "    \"call_endpoint_sync_on_driver\": [],\r\n",
        "    \"call_endpoint_async_on_driver\": [],\r\n",
        "    \"call_endpoint_sync_on_executors\": [],\r\n",
        "    \"call_endpoint_async_on_executors\": []\r\n",
        "}\r\n",
        "\r\n",
        "# Define async function to gather results\r\n",
        "def gather_results():\r\n",
        "    for iterations in iterations_list:\r\n",
        "        # Sync on driver\r\n",
        "        #sync_on_driver_time = call_endpoint_sync_on_driver(test_endpoint, iterations)\r\n",
        "        #results[\"call_endpoint_sync_on_driver\"].append(sync_on_driver_time)\r\n",
        "        results[\"call_endpoint_sync_on_driver\"].append(iterations)        \r\n",
        "        \r\n",
        "        # Async on driver        \r\n",
        "        async_on_driver_time = asyncio.run(call_endpoint_async_on_driver(test_endpoint, iterations))\r\n",
        "        results[\"call_endpoint_async_on_driver\"].append(async_on_driver_time)\r\n",
        "        \r\n",
        "        # Sync on executors\r\n",
        "        sync_on_executors_time = call_endpoint_sync_on_executors(test_endpoint, iterations)\r\n",
        "        results[\"call_endpoint_sync_on_executors\"].append(sync_on_executors_time)\r\n",
        "        \r\n",
        "        # Async on executors\r\n",
        "        async_on_executors_time = call_endpoint_async_on_executors(test_endpoint, iterations)\r\n",
        "        results[\"call_endpoint_async_on_executors\"].append(async_on_executors_time)\r\n",
        "\r\n",
        "# Run the async function to populate results\r\n",
        "gather_results()\r\n",
        "\r\n",
        "# Convert results to a Pandas DataFrame\r\n",
        "df = pd.DataFrame(results)\r\n",
        "\r\n",
        "# Display the results as a table\r\n",
        "display(df)\r\n",
        "\r\n",
        "# Plot the results\r\n",
        "plt.figure(figsize=(10, 6))\r\n",
        "plt.plot(df[\"Iterations\"], df[\"call_endpoint_sync_on_driver\"], label=\"Sync on Driver\")\r\n",
        "plt.plot(df[\"Iterations\"], df[\"call_endpoint_async_on_driver\"], label=\"Async on Driver\")\r\n",
        "plt.plot(df[\"Iterations\"], df[\"call_endpoint_sync_on_executors\"], label=\"Sync on Executors\")\r\n",
        "plt.plot(df[\"Iterations\"], df[\"call_endpoint_async_on_executors\"], label=\"Async on Executors\")\r\n",
        "\r\n",
        "plt.xlabel(\"Number of Iterations\")\r\n",
        "plt.ylabel(\"Execution Time (seconds)\")\r\n",
        "plt.title(\"Execution Time vs. Number of Iterations\")\r\n",
        "plt.legend()\r\n",
        "plt.grid(True)\r\n",
        "plt.show()\r\n"
      ],
      "outputs": [
        {
          "output_type": "display_data",
          "data": {
            "application/vnd.livy.statement-meta+json": {
              "spark_pool": "jvwpool",
              "statement_id": 8,
              "statement_ids": [
                8
              ],
              "state": "finished",
              "livy_statement_state": "available",
              "spark_jobs": null,
              "session_id": "13",
              "normalized_state": "finished",
              "queued_time": "2024-12-09T16:18:14.8705694Z",
              "session_start_time": null,
              "execution_start_time": "2024-12-09T16:18:15.080478Z",
              "execution_finish_time": "2024-12-09T16:23:12.837488Z",
              "parent_msg_id": "cd5856fc-8a5d-4082-ac53-7c7f75320b03"
            },
            "text/plain": "StatementMeta(jvwpool, 13, 8, Finished, Available, Finished)"
          },
          "metadata": {}
        },
        {
          "output_type": "stream",
          "name": "stdout",
          "text": [
            "Function: call_endpoint_async_on_driver\nOverall Response Time for 50 calls: 3.13 seconds\nFunction: call_endpoint_sync_on_executors\nOverall Response Time for 50 calls: 15.26 seconds\nFunction: call_endpoint_async_on_executors\nOverall Response Time for 50 calls: 5.05 seconds\nFunction: call_endpoint_async_on_driver\nOverall Response Time for 100 calls: 5.56 seconds\nFunction: call_endpoint_sync_on_executors\nOverall Response Time for 100 calls: 26.98 seconds\nFunction: call_endpoint_async_on_executors\nOverall Response Time for 100 calls: 8.08 seconds\nFunction: call_endpoint_async_on_driver\nOverall Response Time for 150 calls: 7.67 seconds\nFunction: call_endpoint_sync_on_executors\nOverall Response Time for 150 calls: 41.25 seconds\nFunction: call_endpoint_async_on_executors\nOverall Response Time for 150 calls: 10.50 seconds\nFunction: call_endpoint_async_on_driver\nOverall Response Time for 200 calls: 9.40 seconds\nFunction: call_endpoint_sync_on_executors\nOverall Response Time for 200 calls: 52.70 seconds\nFunction: call_endpoint_async_on_executors\nOverall Response Time for 200 calls: 13.08 seconds\nFunction: call_endpoint_async_on_driver\nOverall Response Time for 250 calls: 12.37 seconds\nFunction: call_endpoint_sync_on_executors\nOverall Response Time for 250 calls: 67.42 seconds\nFunction: call_endpoint_async_on_executors\nOverall Response Time for 250 calls: 16.23 seconds\n"
          ]
        },
        {
          "output_type": "display_data",
          "data": {
            "application/vnd.synapse.widget-view+json": {
              "widget_id": "e651491e-8400-49d4-b139-add7fb46125f",
              "widget_type": "Synapse.DataFrame"
            },
            "text/plain": "SynapseWidget(Synapse.DataFrame, e651491e-8400-49d4-b139-add7fb46125f)"
          },
          "metadata": {}
        },
        {
          "output_type": "display_data",
          "data": {
            "text/plain": "<Figure size 1000x600 with 1 Axes>",
            "image/png": "[encoded data removed]"
          },
          "metadata": {}
        }
      ],
      "execution_count": 7,
      "metadata": {
        "jupyter": {
          "source_hidden": false,
          "outputs_hidden": false
        },
        "nteract": {
          "transient": {
            "deleting": false
          }
        },
        "collapsed": false
      }
    }
  ],
  "metadata": {
    "language_info": {
      "name": "python"
    },
    "kernelspec": {
      "name": "synapse_pyspark",
      "language": "Python",
      "display_name": "Synapse PySpark"
    },
    "kernel_info": {
      "name": "synapse_pyspark"
    },
    "description": null,
    "save_output": true,
    "synapse_widget": {
      "version": "0.1",
      "state": {
        "e651491e-8400-49d4-b139-add7fb46125f": {
          "type": "Synapse.DataFrame",
          "sync_state": {
            "table": {
              "rows": [
                {
                  "0": "50",
                  "1": "50",
                  "2": "3.1256549358",
                  "3": "15.2572565079",
                  "4": "5.0450031757"
                },
                {
                  "0": "100",
                  "1": "100",
                  "2": "5.5643210411",
                  "3": "26.9827506542",
                  "4": "8.0757427216"
                },
                {
                  "0": "150",
                  "1": "150",
                  "2": "7.6668112278",
                  "3": "41.2506120205",
                  "4": "10.5004992485"
                },
                {
                  "0": "200",
                  "1": "200",
                  "2": "9.3969933987",
                  "3": "52.6967182159",
                  "4": "13.0793499947"
                },
                {
                  "0": "250",
                  "1": "250",
                  "2": "12.3658101559",
                  "3": "67.4209170341",
                  "4": "16.2304844856"
                }
              ],
              "schema": [
                {
                  "key": "0",
                  "name": "Iterations",
                  "type": "bigint"
                },
                {
                  "key": "1",
                  "name": "call_endpoint_sync_on_driver",
                  "type": "bigint"
                },
                {
                  "key": "2",
                  "name": "call_endpoint_async_on_driver",
                  "type": "double"
                },
                {
                  "key": "3",
                  "name": "call_endpoint_sync_on_executors",
                  "type": "double"
                },
                {
                  "key": "4",
                  "name": "call_endpoint_async_on_executors",
                  "type": "double"
                }
              ],
              "truncated": false
            },
            "isSummary": false,
            "language": "python",
            "wranglerEntryContext": {
              "candidateVariableNames": [
                "df"
              ],
              "dataframeType": "pandas"
            }
          },
          "persist_state": {
            "view": {
              "type": "details",
              "tableOptions": {},
              "chartOptions": {
                "chartType": "bar",
                "aggregationType": "sum",
                "categoryFieldKeys": [
                  "1"
                ],
                "seriesFieldKeys": [
                  "0"
                ],
                "isStacked": false
              }
            }
          }
        }
      }
    }
  },
  "nbformat": 4,
  "nbformat_minor": 2
}